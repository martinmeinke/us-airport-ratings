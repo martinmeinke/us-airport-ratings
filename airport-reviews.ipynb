{
 "cells": [
  {
   "cell_type": "code",
   "execution_count": 13,
   "metadata": {},
   "outputs": [],
   "source": [
    "API_KEY=''\n",
    "\n",
    "import requests\n",
    "import json\n",
    "import time\n",
    "import os\n",
    "\n",
    "class GooglePlaces(object):\n",
    "    def __init__(self, apiKey):\n",
    "        super(GooglePlaces, self).__init__()\n",
    "        self.apiKey = apiKey\n",
    "    \n",
    "    def search_places_by_text(self, text):\n",
    "        endpoint_url = \"https://maps.googleapis.com/maps/api/place/findplacefromtext/json\"\n",
    "        params = {\n",
    "            'input': text,\n",
    "            'inputtype': 'textquery',\n",
    "            'fields' : 'name,rating,user_ratings_total,place_id,geometry/location',\n",
    "            'key': self.apiKey\n",
    "        }\n",
    "        res = requests.get(endpoint_url, params = params)\n",
    "        results = json.loads(res.content)\n",
    "        print(results)\n",
    "        return results\n",
    "    \n",
    "plc = GooglePlaces(API_KEY)\n",
    "\n",
    "iata_codes = [\n",
    "    \"BHM\",\"DHN\",\"HSV\",\"MOB\",\"MGM\",\"ANC\",\"FAI\",\"JNU\",\"FLG\",\"PHX\",\"TUS\",\n",
    "    \"YUM\",\"FYV\",\"LIT\",\"XNA\",\"BUR\",\"FAT\",\"LGB\",\"LAX\",\"OAK\",\"ONT\",\"PSP\",\n",
    "    \"SMF\",\"SAN\",\"SFO\",\"SJC\",\"SNA\",\"ASE\",\"COS\",\"DEN\",\"GJT\",\"PUB\",\"BDL\",\n",
    "    \"HVN\",\"IAD\",\"DCA\",\"DAB\",\"FLL\",\"RSW\",\"JAX\",\"EYW\",\"MIA\",\"MCO\",\"PNS\",\n",
    "    \"PIE\",\"SRQ\",\"TPA\",\"PBI\",\"PFN\",\"ATL\",\"AGS\",\"SAV\",\"ITO\",\"HNL\",\"OGG\",\n",
    "    \"KOA\",\"LIH\",\"BOI\",\"MDW\",\"ORD\",\"MLI\",\"PIA\",\"EVV\",\"FWA\",\"IND\",\"SBN\",\n",
    "    \"CID\",\"DSM\",\"ICT\",\"LEX\",\"SDF\",\"BTR\",\"MSY\",\"SHV\",\"AUG\",\"BGR\",\"PWM\",\n",
    "    \"BWI\",\"BOS\",\"HYA\",\"ACK\",\"ORH\",\"BTL\",\"DTW\",\"DET\",\"FNT\",\"GRR\",\"AZO\",\n",
    "    \"LAN\",\"MBS\",\"DLH\",\"MSP\",\"RST\",\"GPT\",\"JAN\",\"MCI\",\"STL\",\"SGF\",\"BIL\",\n",
    "    \"LNK\",\"OMA\",\"LAS\",\"RNO\",\"MHT\",\"ACY\",\"EWR\",\"TTN\",\"ABQ\",\"ALM\",\"ALB\",\n",
    "    \"BUF\",\"ISP\",\"JFK\",\"LGA\",\"SWF\",\"ROC\",\"SYR\",\"HPN\",\"AVL\",\"CLT\",\"FAY\",\n",
    "    \"GSO\",\"RDU\",\"INT\",\"BIS\",\"FAR\",\"CAK\",\"CVG\",\"CLE\",\"CMH\",\"DAY\",\"TOL\",\n",
    "    \"OKC\",\"TUL\",\"EUG\",\"PDX\",\"HIO\",\"SLE\",\"ABE\",\"ERI\",\"MDT\",\"PHL\",\"PIT\",\n",
    "    \"AVP\",\"PVD\",\"CHS\",\"CAE\",\"GSP\",\"MYR\",\"PIR\",\"RAP\",\"FSD\",\"TRI\",\"CHA\",\n",
    "    \"TYS\",\"MEM\",\"BNA\",\"AMA\",\"AUS\",\"CRP\",\"DAL\",\"DFW\",\"ELP\",\"HOU\",\"IAH\",\n",
    "    \"LBB\",\"MAF\",\"SAT\",\"SLC\",\"BTV\",\"MPV\",\"RUT\",\"IAD\",\"PHF\",\"ORF\",\"RIC\",\n",
    "    \"ROA\",\"PSC\",\"SEA\",\"GEG\",\"CRW\",\"CKB\",\"HTS\",\"GRB\",\"MSN\",\"MKE\",\"CPR\",\n",
    "    \"CYS\",\"JAC\",\"RKS\"]\n",
    "\n",
    "FNAME = \"places.json\"\n",
    "if os.path.exists(FNAME):\n",
    "    with open(FNAME, 'r') as infile:\n",
    "        places = json.load(infile)\n",
    "else:\n",
    "    places = []\n",
    "    for iata_code in iata_codes:\n",
    "        r = plc.search_places_by_text(\"{} airport\".format(iata_code))\n",
    "        places.extend([c for c in r['candidates'] if \"rating\" in c])"
   ]
  },
  {
   "cell_type": "code",
   "execution_count": 14,
   "metadata": {},
   "outputs": [],
   "source": [
    "%matplotlib inline\n",
    "import plotly \n",
    "import plotly.graph_objects as go\n",
    "import pandas as pd\n",
    "\n",
    "df = pd.DataFrame(places)\n",
    "df = df[df[\"user_ratings_total\"] > 500]\n",
    "df[\"lat\"] = df.apply(lambda r: r[\"geometry\"][\"location\"][\"lat\"], axis=1)\n",
    "df[\"lng\"] = df.apply(lambda r: r[\"geometry\"][\"location\"][\"lng\"], axis=1)\n",
    "df[\"text\"] = df[\"name\"] + \" \" + df[\"rating\"].astype(str)"
   ]
  },
  {
   "cell_type": "markdown",
   "metadata": {},
   "source": [
    "### Worst airports"
   ]
  },
  {
   "cell_type": "code",
   "execution_count": 8,
   "metadata": {},
   "outputs": [
    {
     "name": "stdout",
     "output_type": "stream",
     "text": [
      "                                        name  rating\n",
      "116                        LaGuardia Airport     2.7\n",
      "108     Newark Liberty International Airport     3.0\n",
      "98         Kansas City International Airport     3.0\n",
      "144       Philadelphia International Airport     3.3\n",
      "122  Charlotte Douglas International Airport     3.3\n"
     ]
    }
   ],
   "source": [
    "print(df[[\"name\", \"rating\"]].sort_values(\"rating\").head(5))"
   ]
  },
  {
   "cell_type": "markdown",
   "metadata": {},
   "source": [
    "### Best airports"
   ]
  },
  {
   "cell_type": "code",
   "execution_count": 9,
   "metadata": {},
   "outputs": [
    {
     "name": "stdout",
     "output_type": "stream",
     "text": [
      "                                   name  rating\n",
      "46          Tampa International Airport     4.4\n",
      "138      Portland International Airport     4.4\n",
      "15            Hollywood Burbank Airport     4.4\n",
      "17                   Long Beach Airport     4.4\n",
      "65   Indianapolis International Airport     4.4\n"
     ]
    }
   ],
   "source": [
    "print(df[[\"name\", \"rating\"]].sort_values(\"rating\", ascending=False).head(5))"
   ]
  },
  {
   "cell_type": "code",
   "execution_count": 15,
   "metadata": {},
   "outputs": [
    {
     "data": {
      "application/vnd.plotly.v1+json": {
       "config": {
        "plotlyServerURL": "https://plot.ly"
       },
       "data": [
        {
         "lat": [
          61.17588629999999,
          33.4372686,
          32.1145102,
          34.1983122,
          33.8176974,
          33.9415889,
          37.7125689,
          34.0559781,
          38.6950854,
          32.7338006,
          37.6213129,
          37.3639472,
          33.6761901,
          39.8560963,
          41.9388735,
          38.9531162,
          38.851242,
          26.0742344,
          26.5337051,
          30.49407129999999,
          25.7958723,
          28.4311577,
          27.9098674,
          27.9771524,
          26.6857475,
          33.6407282,
          21.3245132,
          20.8967924,
          19.736916,
          41.78677589999999,
          41.9741625,
          39.7168593,
          38.175662,
          29.9910905,
          39.1774042,
          42.3656132,
          42.2161722,
          42.8846633,
          44.8847554,
          39.2991181,
          38.7499403,
          36.0839998,
          40.6895314,
          35.0433333,
          42.9397059,
          40.6413111,
          40.7769271,
          35.2144026,
          35.88007899999999,
          26.6857475,
          39.0532746,
          41.4057985,
          39.9999399,
          35.393056,
          45.58976939999999,
          39.8743959,
          40.4919208,
          34.8959008,
          35.0420679,
          36.126317,
          30.19747109999999,
          32.8481029,
          32.8998091,
          31.8053354,
          29.6459077,
          29.9902199,
          29.5311973,
          40.7899404,
          38.9531162,
          36.8956837,
          37.5065795,
          47.4502499,
          42.9475534
         ],
         "locationmode": "USA-states",
         "lon": [
          -149.9900792,
          -112.0077881,
          -110.9392269,
          -118.3574036,
          -118.1523845,
          -118.40853,
          -122.2197428,
          -117.598057,
          -121.5900648,
          -117.1933038,
          -122.3789554,
          -121.9289375,
          -117.8674759,
          -104.6737376,
          -72.68603139999999,
          -77.45653879999999,
          -77.04023149999999,
          -80.1506022,
          -81.7553083,
          -81.6879368,
          -80.2870509,
          -81.308083,
          -82.68885709999999,
          -82.5311382,
          -80.0928165,
          -84.4277001,
          -157.9250736,
          -156.4329379,
          -156.0429246,
          -87.7521884,
          -87.9073214,
          -86.2955952,
          -85.7369231,
          -90.2592299,
          -76.6683922,
          -71.0095602,
          -83.3553842,
          -85.5248434,
          -93.2222846,
          -94.7107786,
          -90.374819,
          -115.1537389,
          -74.1744624,
          -106.6129085,
          -78.7295067,
          -73.77813909999999,
          -73.8739659,
          -80.9473146,
          -78.7879963,
          -80.0928165,
          -84.6630165,
          -81.8538669,
          -82.8871767,
          -97.600556,
          -122.5950942,
          -75.2424229,
          -80.2352233,
          -82.2172338,
          -89.9791729,
          -86.67737129999999,
          -97.66635289999999,
          -96.8512063,
          -97.0403352,
          -106.3824345,
          -95.27690539999999,
          -95.3367827,
          -98.4683484,
          -111.9790706,
          -77.45653879999999,
          -76.2000161,
          -77.3208112,
          -122.3088165,
          -87.89664599999999
         ],
         "marker": {
          "cmax": 4.5,
          "cmin": 3,
          "color": [
           4.3,
           3.9,
           4.3,
           4.4,
           4.4,
           3.5,
           3.7,
           4.2,
           4.1,
           3.9,
           3.9,
           4.1,
           4.3,
           3.9,
           4.1,
           3.9,
           3.9,
           3.6,
           4.2,
           4.1,
           3.7,
           3.7,
           3.4,
           4.4,
           4.3,
           3.9,
           3.3,
           3.5,
           3.5,
           3.7,
           3.6,
           4.4,
           3.9,
           3.3,
           4,
           3.8,
           4.1,
           4.1,
           4,
           3,
           3.6,
           4,
           3,
           4.2,
           4.2,
           3.7,
           2.7,
           3.3,
           4.1,
           4.3,
           3.8,
           3.6,
           4,
           4,
           4.4,
           3.3,
           4.3,
           4.2,
           3.6,
           4,
           3.8,
           4.3,
           3.8,
           4.3,
           4.1,
           3.8,
           4.1,
           4,
           3.9,
           3.7,
           4.1,
           3.6,
           4.2
          ],
          "colorscale": [
           [
            0,
            "rgb(165,0,38)"
           ],
           [
            0.1,
            "rgb(215,48,39)"
           ],
           [
            0.2,
            "rgb(244,109,67)"
           ],
           [
            0.3,
            "rgb(253,174,97)"
           ],
           [
            0.4,
            "rgb(254,224,139)"
           ],
           [
            0.5,
            "rgb(255,255,191)"
           ],
           [
            0.6,
            "rgb(217,239,139)"
           ],
           [
            0.7,
            "rgb(166,217,106)"
           ],
           [
            0.8,
            "rgb(102,189,99)"
           ],
           [
            0.9,
            "rgb(26,152,80)"
           ],
           [
            1,
            "rgb(0,104,55)"
           ]
          ],
          "line": {
           "color": "rgb(40,40,40)",
           "width": 0.5
          },
          "size": [
           20,
           69.92,
           20,
           20,
           20,
           223.84,
           23.26,
           21.02,
           26.02,
           53.16,
           137.34,
           33.7,
           29.06,
           110.52,
           20,
           75.58,
           51.04,
           100.38,
           20,
           20,
           146.84,
           134.62,
           20,
           62.22,
           20,
           164.94,
           49.8,
           20,
           20,
           41.26,
           162.12,
           29.88,
           20,
           37.68,
           49.62,
           71,
           61.42,
           20,
           51.94,
           35.64,
           20.8,
           103.14,
           138.8,
           20,
           20,
           230.74,
           106.1,
           76.9,
           30.38,
           20,
           21.64,
           20.08,
           20,
           20,
           52.1,
           71.44,
           24.12,
           20,
           20,
           29.34,
           41.36,
           35.2,
           119.7,
           20,
           28.36,
           96.66,
           23.86,
           38.96,
           75.58,
           20,
           20,
           99.58,
           20
          ],
          "sizemode": "area"
         },
         "name": "Airport ratings",
         "text": [
          "Ted Stevens Anchorage International Airport 4.3",
          "Phoenix Sky Harbor International Airport 3.9",
          "Tucson International Airport 4.3",
          "Hollywood Burbank Airport 4.4",
          "Long Beach Airport 4.4",
          "Los Angeles International Airport 3.5",
          "Oakland International Airport 3.7",
          "Ontario International Airport 4.2",
          "Sacramento International Airport 4.1",
          "San Diego International Airport 3.9",
          "San Francisco International Airport 3.9",
          "Norman Y. Mineta San Jose International Airport 4.1",
          "John Wayne Airport 4.3",
          "Denver International Airport 3.9",
          "Bradley International Airport 4.1",
          "Dulles International Airport 3.9",
          "Ronald Reagan Washington National Airport 3.9",
          "Fort Lauderdale-Hollywood International Airport 3.6",
          "Southwest Florida International Airport 4.2",
          "Jacksonville International Airport 4.1",
          "Miami International Airport 3.7",
          "Orlando International Airport 3.7",
          "St. Pete–Clearwater International Airport 3.4",
          "Tampa International Airport 4.4",
          "Palm Beach International Airport 4.3",
          "Hartsfield-Jackson Atlanta International Airport 3.9",
          "Daniel K. Inouye International Airport 3.3",
          "Kahului Airport 3.5",
          "Kona International Airport 3.5",
          "Chicago Midway International Airport 3.7",
          "O'Hare International Airport 3.6",
          "Indianapolis International Airport 4.4",
          "Louisville International Airport 3.9",
          "Louis Armstrong New Orleans International Airport 3.3",
          "Baltimore/Washington International Thurgood Marshall Airport 4.0",
          "Boston Logan International Airport 3.8",
          "Detroit Metropolitan Wayne County Airport 4.1",
          "Gerald R. Ford International Airport 4.1",
          "Minneapolis−Saint Paul International Airport 4.0",
          "Kansas City International Airport 3.0",
          "St. Louis Lambert International Airport 3.6",
          "McCarran International Airport 4.0",
          "Newark Liberty International Airport 3.0",
          "Albuquerque International Sunport 4.2",
          "Buffalo Niagara International Airport 4.2",
          "John F. Kennedy International Airport 3.7",
          "LaGuardia Airport 2.7",
          "Charlotte Douglas International Airport 3.3",
          "Raleigh-Durham International Airport 4.1",
          "Palm Beach International Airport 4.3",
          "Cincinnati/Northern Kentucky International Airport 3.8",
          "Cleveland Hopkins International Airport 3.6",
          "John Glenn Columbus International Airport 4.0",
          "Will Rogers World Airport 4.0",
          "Portland International Airport 4.4",
          "Philadelphia International Airport 3.3",
          "Pittsburgh International Airport 4.3",
          "Greenville-Spartanburg International Airport 4.2",
          "Memphis International Airport 3.6",
          "Nashville International Airport 4.0",
          "Austin-Bergstrom International Airport 3.8",
          "Dallas Love Field Airport 4.3",
          "Dallas/Fort Worth International Airport 3.8",
          "El Paso International Airport 4.3",
          "William P. Hobby Airport 4.1",
          "George Bush Intercontinental Airport 3.8",
          "San Antonio International Airport 4.1",
          "Salt Lake City International Airport 4.0",
          "Dulles International Airport 3.9",
          "Norfolk International Airport 3.7",
          "Richmond International Airport 4.1",
          "Seattle-Tacoma International Airport 3.6",
          "General Mitchell International Airport 4.2"
         ],
         "type": "scattergeo"
        }
       ],
       "layout": {
        "geo": {
         "landcolor": "rgb(217, 217, 217)",
         "scope": "usa"
        },
        "height": 1200,
        "showlegend": true,
        "template": {
         "data": {
          "bar": [
           {
            "error_x": {
             "color": "#2a3f5f"
            },
            "error_y": {
             "color": "#2a3f5f"
            },
            "marker": {
             "line": {
              "color": "#E5ECF6",
              "width": 0.5
             }
            },
            "type": "bar"
           }
          ],
          "barpolar": [
           {
            "marker": {
             "line": {
              "color": "#E5ECF6",
              "width": 0.5
             }
            },
            "type": "barpolar"
           }
          ],
          "carpet": [
           {
            "aaxis": {
             "endlinecolor": "#2a3f5f",
             "gridcolor": "white",
             "linecolor": "white",
             "minorgridcolor": "white",
             "startlinecolor": "#2a3f5f"
            },
            "baxis": {
             "endlinecolor": "#2a3f5f",
             "gridcolor": "white",
             "linecolor": "white",
             "minorgridcolor": "white",
             "startlinecolor": "#2a3f5f"
            },
            "type": "carpet"
           }
          ],
          "choropleth": [
           {
            "colorbar": {
             "outlinewidth": 0,
             "ticks": ""
            },
            "type": "choropleth"
           }
          ],
          "contour": [
           {
            "colorbar": {
             "outlinewidth": 0,
             "ticks": ""
            },
            "colorscale": [
             [
              0,
              "#0d0887"
             ],
             [
              0.1111111111111111,
              "#46039f"
             ],
             [
              0.2222222222222222,
              "#7201a8"
             ],
             [
              0.3333333333333333,
              "#9c179e"
             ],
             [
              0.4444444444444444,
              "#bd3786"
             ],
             [
              0.5555555555555556,
              "#d8576b"
             ],
             [
              0.6666666666666666,
              "#ed7953"
             ],
             [
              0.7777777777777778,
              "#fb9f3a"
             ],
             [
              0.8888888888888888,
              "#fdca26"
             ],
             [
              1,
              "#f0f921"
             ]
            ],
            "type": "contour"
           }
          ],
          "contourcarpet": [
           {
            "colorbar": {
             "outlinewidth": 0,
             "ticks": ""
            },
            "type": "contourcarpet"
           }
          ],
          "heatmap": [
           {
            "colorbar": {
             "outlinewidth": 0,
             "ticks": ""
            },
            "colorscale": [
             [
              0,
              "#0d0887"
             ],
             [
              0.1111111111111111,
              "#46039f"
             ],
             [
              0.2222222222222222,
              "#7201a8"
             ],
             [
              0.3333333333333333,
              "#9c179e"
             ],
             [
              0.4444444444444444,
              "#bd3786"
             ],
             [
              0.5555555555555556,
              "#d8576b"
             ],
             [
              0.6666666666666666,
              "#ed7953"
             ],
             [
              0.7777777777777778,
              "#fb9f3a"
             ],
             [
              0.8888888888888888,
              "#fdca26"
             ],
             [
              1,
              "#f0f921"
             ]
            ],
            "type": "heatmap"
           }
          ],
          "heatmapgl": [
           {
            "colorbar": {
             "outlinewidth": 0,
             "ticks": ""
            },
            "colorscale": [
             [
              0,
              "#0d0887"
             ],
             [
              0.1111111111111111,
              "#46039f"
             ],
             [
              0.2222222222222222,
              "#7201a8"
             ],
             [
              0.3333333333333333,
              "#9c179e"
             ],
             [
              0.4444444444444444,
              "#bd3786"
             ],
             [
              0.5555555555555556,
              "#d8576b"
             ],
             [
              0.6666666666666666,
              "#ed7953"
             ],
             [
              0.7777777777777778,
              "#fb9f3a"
             ],
             [
              0.8888888888888888,
              "#fdca26"
             ],
             [
              1,
              "#f0f921"
             ]
            ],
            "type": "heatmapgl"
           }
          ],
          "histogram": [
           {
            "marker": {
             "colorbar": {
              "outlinewidth": 0,
              "ticks": ""
             }
            },
            "type": "histogram"
           }
          ],
          "histogram2d": [
           {
            "colorbar": {
             "outlinewidth": 0,
             "ticks": ""
            },
            "colorscale": [
             [
              0,
              "#0d0887"
             ],
             [
              0.1111111111111111,
              "#46039f"
             ],
             [
              0.2222222222222222,
              "#7201a8"
             ],
             [
              0.3333333333333333,
              "#9c179e"
             ],
             [
              0.4444444444444444,
              "#bd3786"
             ],
             [
              0.5555555555555556,
              "#d8576b"
             ],
             [
              0.6666666666666666,
              "#ed7953"
             ],
             [
              0.7777777777777778,
              "#fb9f3a"
             ],
             [
              0.8888888888888888,
              "#fdca26"
             ],
             [
              1,
              "#f0f921"
             ]
            ],
            "type": "histogram2d"
           }
          ],
          "histogram2dcontour": [
           {
            "colorbar": {
             "outlinewidth": 0,
             "ticks": ""
            },
            "colorscale": [
             [
              0,
              "#0d0887"
             ],
             [
              0.1111111111111111,
              "#46039f"
             ],
             [
              0.2222222222222222,
              "#7201a8"
             ],
             [
              0.3333333333333333,
              "#9c179e"
             ],
             [
              0.4444444444444444,
              "#bd3786"
             ],
             [
              0.5555555555555556,
              "#d8576b"
             ],
             [
              0.6666666666666666,
              "#ed7953"
             ],
             [
              0.7777777777777778,
              "#fb9f3a"
             ],
             [
              0.8888888888888888,
              "#fdca26"
             ],
             [
              1,
              "#f0f921"
             ]
            ],
            "type": "histogram2dcontour"
           }
          ],
          "mesh3d": [
           {
            "colorbar": {
             "outlinewidth": 0,
             "ticks": ""
            },
            "type": "mesh3d"
           }
          ],
          "parcoords": [
           {
            "line": {
             "colorbar": {
              "outlinewidth": 0,
              "ticks": ""
             }
            },
            "type": "parcoords"
           }
          ],
          "pie": [
           {
            "automargin": true,
            "type": "pie"
           }
          ],
          "scatter": [
           {
            "marker": {
             "colorbar": {
              "outlinewidth": 0,
              "ticks": ""
             }
            },
            "type": "scatter"
           }
          ],
          "scatter3d": [
           {
            "line": {
             "colorbar": {
              "outlinewidth": 0,
              "ticks": ""
             }
            },
            "marker": {
             "colorbar": {
              "outlinewidth": 0,
              "ticks": ""
             }
            },
            "type": "scatter3d"
           }
          ],
          "scattercarpet": [
           {
            "marker": {
             "colorbar": {
              "outlinewidth": 0,
              "ticks": ""
             }
            },
            "type": "scattercarpet"
           }
          ],
          "scattergeo": [
           {
            "marker": {
             "colorbar": {
              "outlinewidth": 0,
              "ticks": ""
             }
            },
            "type": "scattergeo"
           }
          ],
          "scattergl": [
           {
            "marker": {
             "colorbar": {
              "outlinewidth": 0,
              "ticks": ""
             }
            },
            "type": "scattergl"
           }
          ],
          "scattermapbox": [
           {
            "marker": {
             "colorbar": {
              "outlinewidth": 0,
              "ticks": ""
             }
            },
            "type": "scattermapbox"
           }
          ],
          "scatterpolar": [
           {
            "marker": {
             "colorbar": {
              "outlinewidth": 0,
              "ticks": ""
             }
            },
            "type": "scatterpolar"
           }
          ],
          "scatterpolargl": [
           {
            "marker": {
             "colorbar": {
              "outlinewidth": 0,
              "ticks": ""
             }
            },
            "type": "scatterpolargl"
           }
          ],
          "scatterternary": [
           {
            "marker": {
             "colorbar": {
              "outlinewidth": 0,
              "ticks": ""
             }
            },
            "type": "scatterternary"
           }
          ],
          "surface": [
           {
            "colorbar": {
             "outlinewidth": 0,
             "ticks": ""
            },
            "colorscale": [
             [
              0,
              "#0d0887"
             ],
             [
              0.1111111111111111,
              "#46039f"
             ],
             [
              0.2222222222222222,
              "#7201a8"
             ],
             [
              0.3333333333333333,
              "#9c179e"
             ],
             [
              0.4444444444444444,
              "#bd3786"
             ],
             [
              0.5555555555555556,
              "#d8576b"
             ],
             [
              0.6666666666666666,
              "#ed7953"
             ],
             [
              0.7777777777777778,
              "#fb9f3a"
             ],
             [
              0.8888888888888888,
              "#fdca26"
             ],
             [
              1,
              "#f0f921"
             ]
            ],
            "type": "surface"
           }
          ],
          "table": [
           {
            "cells": {
             "fill": {
              "color": "#EBF0F8"
             },
             "line": {
              "color": "white"
             }
            },
            "header": {
             "fill": {
              "color": "#C8D4E3"
             },
             "line": {
              "color": "white"
             }
            },
            "type": "table"
           }
          ]
         },
         "layout": {
          "annotationdefaults": {
           "arrowcolor": "#2a3f5f",
           "arrowhead": 0,
           "arrowwidth": 1
          },
          "coloraxis": {
           "colorbar": {
            "outlinewidth": 0,
            "ticks": ""
           }
          },
          "colorscale": {
           "diverging": [
            [
             0,
             "#8e0152"
            ],
            [
             0.1,
             "#c51b7d"
            ],
            [
             0.2,
             "#de77ae"
            ],
            [
             0.3,
             "#f1b6da"
            ],
            [
             0.4,
             "#fde0ef"
            ],
            [
             0.5,
             "#f7f7f7"
            ],
            [
             0.6,
             "#e6f5d0"
            ],
            [
             0.7,
             "#b8e186"
            ],
            [
             0.8,
             "#7fbc41"
            ],
            [
             0.9,
             "#4d9221"
            ],
            [
             1,
             "#276419"
            ]
           ],
           "sequential": [
            [
             0,
             "#0d0887"
            ],
            [
             0.1111111111111111,
             "#46039f"
            ],
            [
             0.2222222222222222,
             "#7201a8"
            ],
            [
             0.3333333333333333,
             "#9c179e"
            ],
            [
             0.4444444444444444,
             "#bd3786"
            ],
            [
             0.5555555555555556,
             "#d8576b"
            ],
            [
             0.6666666666666666,
             "#ed7953"
            ],
            [
             0.7777777777777778,
             "#fb9f3a"
            ],
            [
             0.8888888888888888,
             "#fdca26"
            ],
            [
             1,
             "#f0f921"
            ]
           ],
           "sequentialminus": [
            [
             0,
             "#0d0887"
            ],
            [
             0.1111111111111111,
             "#46039f"
            ],
            [
             0.2222222222222222,
             "#7201a8"
            ],
            [
             0.3333333333333333,
             "#9c179e"
            ],
            [
             0.4444444444444444,
             "#bd3786"
            ],
            [
             0.5555555555555556,
             "#d8576b"
            ],
            [
             0.6666666666666666,
             "#ed7953"
            ],
            [
             0.7777777777777778,
             "#fb9f3a"
            ],
            [
             0.8888888888888888,
             "#fdca26"
            ],
            [
             1,
             "#f0f921"
            ]
           ]
          },
          "colorway": [
           "#636efa",
           "#EF553B",
           "#00cc96",
           "#ab63fa",
           "#FFA15A",
           "#19d3f3",
           "#FF6692",
           "#B6E880",
           "#FF97FF",
           "#FECB52"
          ],
          "font": {
           "color": "#2a3f5f"
          },
          "geo": {
           "bgcolor": "white",
           "lakecolor": "white",
           "landcolor": "#E5ECF6",
           "showlakes": true,
           "showland": true,
           "subunitcolor": "white"
          },
          "hoverlabel": {
           "align": "left"
          },
          "hovermode": "closest",
          "mapbox": {
           "style": "light"
          },
          "paper_bgcolor": "white",
          "plot_bgcolor": "#E5ECF6",
          "polar": {
           "angularaxis": {
            "gridcolor": "white",
            "linecolor": "white",
            "ticks": ""
           },
           "bgcolor": "#E5ECF6",
           "radialaxis": {
            "gridcolor": "white",
            "linecolor": "white",
            "ticks": ""
           }
          },
          "scene": {
           "xaxis": {
            "backgroundcolor": "#E5ECF6",
            "gridcolor": "white",
            "gridwidth": 2,
            "linecolor": "white",
            "showbackground": true,
            "ticks": "",
            "zerolinecolor": "white"
           },
           "yaxis": {
            "backgroundcolor": "#E5ECF6",
            "gridcolor": "white",
            "gridwidth": 2,
            "linecolor": "white",
            "showbackground": true,
            "ticks": "",
            "zerolinecolor": "white"
           },
           "zaxis": {
            "backgroundcolor": "#E5ECF6",
            "gridcolor": "white",
            "gridwidth": 2,
            "linecolor": "white",
            "showbackground": true,
            "ticks": "",
            "zerolinecolor": "white"
           }
          },
          "shapedefaults": {
           "line": {
            "color": "#2a3f5f"
           }
          },
          "ternary": {
           "aaxis": {
            "gridcolor": "white",
            "linecolor": "white",
            "ticks": ""
           },
           "baxis": {
            "gridcolor": "white",
            "linecolor": "white",
            "ticks": ""
           },
           "bgcolor": "#E5ECF6",
           "caxis": {
            "gridcolor": "white",
            "linecolor": "white",
            "ticks": ""
           }
          },
          "title": {
           "x": 0.05
          },
          "xaxis": {
           "automargin": true,
           "gridcolor": "white",
           "linecolor": "white",
           "ticks": "",
           "title": {
            "standoff": 15
           },
           "zerolinecolor": "white",
           "zerolinewidth": 2
          },
          "yaxis": {
           "automargin": true,
           "gridcolor": "white",
           "linecolor": "white",
           "ticks": "",
           "title": {
            "standoff": 15
           },
           "zerolinecolor": "white",
           "zerolinewidth": 2
          }
         }
        },
        "title": {
         "text": "Airport Ratings"
        },
        "width": 1800
       }
      },
      "text/html": [
       "<div>\n",
       "        \n",
       "        \n",
       "            <div id=\"2b953a1f-ed13-4c78-9cb0-d71b14b38b4e\" class=\"plotly-graph-div\" style=\"height:1200px; width:1800px;\"></div>\n",
       "            <script type=\"text/javascript\">\n",
       "                require([\"plotly\"], function(Plotly) {\n",
       "                    window.PLOTLYENV=window.PLOTLYENV || {};\n",
       "                    \n",
       "                if (document.getElementById(\"2b953a1f-ed13-4c78-9cb0-d71b14b38b4e\")) {\n",
       "                    Plotly.newPlot(\n",
       "                        '2b953a1f-ed13-4c78-9cb0-d71b14b38b4e',\n",
       "                        [{\"lat\": [61.17588629999999, 33.4372686, 32.1145102, 34.1983122, 33.8176974, 33.9415889, 37.7125689, 34.0559781, 38.6950854, 32.7338006, 37.6213129, 37.3639472, 33.6761901, 39.8560963, 41.9388735, 38.9531162, 38.851242, 26.0742344, 26.5337051, 30.49407129999999, 25.7958723, 28.4311577, 27.9098674, 27.9771524, 26.6857475, 33.6407282, 21.3245132, 20.8967924, 19.736916, 41.78677589999999, 41.9741625, 39.7168593, 38.175662, 29.9910905, 39.1774042, 42.3656132, 42.2161722, 42.8846633, 44.8847554, 39.2991181, 38.7499403, 36.0839998, 40.6895314, 35.0433333, 42.9397059, 40.6413111, 40.7769271, 35.2144026, 35.88007899999999, 26.6857475, 39.0532746, 41.4057985, 39.9999399, 35.393056, 45.58976939999999, 39.8743959, 40.4919208, 34.8959008, 35.0420679, 36.126317, 30.19747109999999, 32.8481029, 32.8998091, 31.8053354, 29.6459077, 29.9902199, 29.5311973, 40.7899404, 38.9531162, 36.8956837, 37.5065795, 47.4502499, 42.9475534], \"locationmode\": \"USA-states\", \"lon\": [-149.9900792, -112.0077881, -110.9392269, -118.3574036, -118.1523845, -118.40853, -122.2197428, -117.598057, -121.5900648, -117.1933038, -122.3789554, -121.9289375, -117.8674759, -104.6737376, -72.68603139999999, -77.45653879999999, -77.04023149999999, -80.1506022, -81.7553083, -81.6879368, -80.2870509, -81.308083, -82.68885709999999, -82.5311382, -80.0928165, -84.4277001, -157.9250736, -156.4329379, -156.0429246, -87.7521884, -87.9073214, -86.2955952, -85.7369231, -90.2592299, -76.6683922, -71.0095602, -83.3553842, -85.5248434, -93.2222846, -94.7107786, -90.374819, -115.1537389, -74.1744624, -106.6129085, -78.7295067, -73.77813909999999, -73.8739659, -80.9473146, -78.7879963, -80.0928165, -84.6630165, -81.8538669, -82.8871767, -97.600556, -122.5950942, -75.2424229, -80.2352233, -82.2172338, -89.9791729, -86.67737129999999, -97.66635289999999, -96.8512063, -97.0403352, -106.3824345, -95.27690539999999, -95.3367827, -98.4683484, -111.9790706, -77.45653879999999, -76.2000161, -77.3208112, -122.3088165, -87.89664599999999], \"marker\": {\"cmax\": 4.5, \"cmin\": 3.0, \"color\": [4.3, 3.9, 4.3, 4.4, 4.4, 3.5, 3.7, 4.2, 4.1, 3.9, 3.9, 4.1, 4.3, 3.9, 4.1, 3.9, 3.9, 3.6, 4.2, 4.1, 3.7, 3.7, 3.4, 4.4, 4.3, 3.9, 3.3, 3.5, 3.5, 3.7, 3.6, 4.4, 3.9, 3.3, 4.0, 3.8, 4.1, 4.1, 4.0, 3.0, 3.6, 4.0, 3.0, 4.2, 4.2, 3.7, 2.7, 3.3, 4.1, 4.3, 3.8, 3.6, 4.0, 4.0, 4.4, 3.3, 4.3, 4.2, 3.6, 4.0, 3.8, 4.3, 3.8, 4.3, 4.1, 3.8, 4.1, 4.0, 3.9, 3.7, 4.1, 3.6, 4.2], \"colorscale\": [[0.0, \"rgb(165,0,38)\"], [0.1, \"rgb(215,48,39)\"], [0.2, \"rgb(244,109,67)\"], [0.3, \"rgb(253,174,97)\"], [0.4, \"rgb(254,224,139)\"], [0.5, \"rgb(255,255,191)\"], [0.6, \"rgb(217,239,139)\"], [0.7, \"rgb(166,217,106)\"], [0.8, \"rgb(102,189,99)\"], [0.9, \"rgb(26,152,80)\"], [1.0, \"rgb(0,104,55)\"]], \"line\": {\"color\": \"rgb(40,40,40)\", \"width\": 0.5}, \"size\": [20.0, 69.92, 20.0, 20.0, 20.0, 223.84, 23.26, 21.02, 26.02, 53.16, 137.34, 33.7, 29.06, 110.52, 20.0, 75.58, 51.04, 100.38, 20.0, 20.0, 146.84, 134.62, 20.0, 62.22, 20.0, 164.94, 49.8, 20.0, 20.0, 41.26, 162.12, 29.88, 20.0, 37.68, 49.62, 71.0, 61.42, 20.0, 51.94, 35.64, 20.8, 103.14, 138.8, 20.0, 20.0, 230.74, 106.1, 76.9, 30.38, 20.0, 21.64, 20.08, 20.0, 20.0, 52.1, 71.44, 24.12, 20.0, 20.0, 29.34, 41.36, 35.2, 119.7, 20.0, 28.36, 96.66, 23.86, 38.96, 75.58, 20.0, 20.0, 99.58, 20.0], \"sizemode\": \"area\"}, \"name\": \"Airport ratings\", \"text\": [\"Ted Stevens Anchorage International Airport 4.3\", \"Phoenix Sky Harbor International Airport 3.9\", \"Tucson International Airport 4.3\", \"Hollywood Burbank Airport 4.4\", \"Long Beach Airport 4.4\", \"Los Angeles International Airport 3.5\", \"Oakland International Airport 3.7\", \"Ontario International Airport 4.2\", \"Sacramento International Airport 4.1\", \"San Diego International Airport 3.9\", \"San Francisco International Airport 3.9\", \"Norman Y. Mineta San Jose International Airport 4.1\", \"John Wayne Airport 4.3\", \"Denver International Airport 3.9\", \"Bradley International Airport 4.1\", \"Dulles International Airport 3.9\", \"Ronald Reagan Washington National Airport 3.9\", \"Fort Lauderdale-Hollywood International Airport 3.6\", \"Southwest Florida International Airport 4.2\", \"Jacksonville International Airport 4.1\", \"Miami International Airport 3.7\", \"Orlando International Airport 3.7\", \"St. Pete\\u2013Clearwater International Airport 3.4\", \"Tampa International Airport 4.4\", \"Palm Beach International Airport 4.3\", \"Hartsfield-Jackson Atlanta International Airport 3.9\", \"Daniel K. Inouye International Airport 3.3\", \"Kahului Airport 3.5\", \"Kona International Airport 3.5\", \"Chicago Midway International Airport 3.7\", \"O'Hare International Airport 3.6\", \"Indianapolis International Airport 4.4\", \"Louisville International Airport 3.9\", \"Louis Armstrong New Orleans International Airport 3.3\", \"Baltimore/Washington International Thurgood Marshall Airport 4.0\", \"Boston Logan International Airport 3.8\", \"Detroit Metropolitan Wayne County Airport 4.1\", \"Gerald R. Ford International Airport 4.1\", \"Minneapolis\\u2212Saint Paul International Airport 4.0\", \"Kansas City International Airport 3.0\", \"St. Louis Lambert International Airport 3.6\", \"McCarran International Airport 4.0\", \"Newark Liberty International Airport 3.0\", \"Albuquerque International Sunport 4.2\", \"Buffalo Niagara International Airport 4.2\", \"John F. Kennedy International Airport 3.7\", \"LaGuardia Airport 2.7\", \"Charlotte Douglas International Airport 3.3\", \"Raleigh-Durham International Airport 4.1\", \"Palm Beach International Airport 4.3\", \"Cincinnati/Northern Kentucky International Airport 3.8\", \"Cleveland Hopkins International Airport 3.6\", \"John Glenn Columbus International Airport 4.0\", \"Will Rogers World Airport 4.0\", \"Portland International Airport 4.4\", \"Philadelphia International Airport 3.3\", \"Pittsburgh International Airport 4.3\", \"Greenville-Spartanburg International Airport 4.2\", \"Memphis International Airport 3.6\", \"Nashville International Airport 4.0\", \"Austin-Bergstrom International Airport 3.8\", \"Dallas Love Field Airport 4.3\", \"Dallas/Fort Worth International Airport 3.8\", \"El Paso International Airport 4.3\", \"William P. Hobby Airport 4.1\", \"George Bush Intercontinental Airport 3.8\", \"San Antonio International Airport 4.1\", \"Salt Lake City International Airport 4.0\", \"Dulles International Airport 3.9\", \"Norfolk International Airport 3.7\", \"Richmond International Airport 4.1\", \"Seattle-Tacoma International Airport 3.6\", \"General Mitchell International Airport 4.2\"], \"type\": \"scattergeo\"}],\n",
       "                        {\"geo\": {\"landcolor\": \"rgb(217, 217, 217)\", \"scope\": \"usa\"}, \"height\": 1200, \"showlegend\": true, \"template\": {\"data\": {\"bar\": [{\"error_x\": {\"color\": \"#2a3f5f\"}, \"error_y\": {\"color\": \"#2a3f5f\"}, \"marker\": {\"line\": {\"color\": \"#E5ECF6\", \"width\": 0.5}}, \"type\": \"bar\"}], \"barpolar\": [{\"marker\": {\"line\": {\"color\": \"#E5ECF6\", \"width\": 0.5}}, \"type\": \"barpolar\"}], \"carpet\": [{\"aaxis\": {\"endlinecolor\": \"#2a3f5f\", \"gridcolor\": \"white\", \"linecolor\": \"white\", \"minorgridcolor\": \"white\", \"startlinecolor\": \"#2a3f5f\"}, \"baxis\": {\"endlinecolor\": \"#2a3f5f\", \"gridcolor\": \"white\", \"linecolor\": \"white\", \"minorgridcolor\": \"white\", \"startlinecolor\": \"#2a3f5f\"}, \"type\": \"carpet\"}], \"choropleth\": [{\"colorbar\": {\"outlinewidth\": 0, \"ticks\": \"\"}, \"type\": \"choropleth\"}], \"contour\": [{\"colorbar\": {\"outlinewidth\": 0, \"ticks\": \"\"}, \"colorscale\": [[0.0, \"#0d0887\"], [0.1111111111111111, \"#46039f\"], [0.2222222222222222, \"#7201a8\"], [0.3333333333333333, \"#9c179e\"], [0.4444444444444444, \"#bd3786\"], [0.5555555555555556, \"#d8576b\"], [0.6666666666666666, \"#ed7953\"], [0.7777777777777778, \"#fb9f3a\"], [0.8888888888888888, \"#fdca26\"], [1.0, \"#f0f921\"]], \"type\": \"contour\"}], \"contourcarpet\": [{\"colorbar\": {\"outlinewidth\": 0, \"ticks\": \"\"}, \"type\": \"contourcarpet\"}], \"heatmap\": [{\"colorbar\": {\"outlinewidth\": 0, \"ticks\": \"\"}, \"colorscale\": [[0.0, \"#0d0887\"], [0.1111111111111111, \"#46039f\"], [0.2222222222222222, \"#7201a8\"], [0.3333333333333333, \"#9c179e\"], [0.4444444444444444, \"#bd3786\"], [0.5555555555555556, \"#d8576b\"], [0.6666666666666666, \"#ed7953\"], [0.7777777777777778, \"#fb9f3a\"], [0.8888888888888888, \"#fdca26\"], [1.0, \"#f0f921\"]], \"type\": \"heatmap\"}], \"heatmapgl\": [{\"colorbar\": {\"outlinewidth\": 0, \"ticks\": \"\"}, \"colorscale\": [[0.0, \"#0d0887\"], [0.1111111111111111, \"#46039f\"], [0.2222222222222222, \"#7201a8\"], [0.3333333333333333, \"#9c179e\"], [0.4444444444444444, \"#bd3786\"], [0.5555555555555556, \"#d8576b\"], [0.6666666666666666, \"#ed7953\"], [0.7777777777777778, \"#fb9f3a\"], [0.8888888888888888, \"#fdca26\"], [1.0, \"#f0f921\"]], \"type\": \"heatmapgl\"}], \"histogram\": [{\"marker\": {\"colorbar\": {\"outlinewidth\": 0, \"ticks\": \"\"}}, \"type\": \"histogram\"}], \"histogram2d\": [{\"colorbar\": {\"outlinewidth\": 0, \"ticks\": \"\"}, \"colorscale\": [[0.0, \"#0d0887\"], [0.1111111111111111, \"#46039f\"], [0.2222222222222222, \"#7201a8\"], [0.3333333333333333, \"#9c179e\"], [0.4444444444444444, \"#bd3786\"], [0.5555555555555556, \"#d8576b\"], [0.6666666666666666, \"#ed7953\"], [0.7777777777777778, \"#fb9f3a\"], [0.8888888888888888, \"#fdca26\"], [1.0, \"#f0f921\"]], \"type\": \"histogram2d\"}], \"histogram2dcontour\": [{\"colorbar\": {\"outlinewidth\": 0, \"ticks\": \"\"}, \"colorscale\": [[0.0, \"#0d0887\"], [0.1111111111111111, \"#46039f\"], [0.2222222222222222, \"#7201a8\"], [0.3333333333333333, \"#9c179e\"], [0.4444444444444444, \"#bd3786\"], [0.5555555555555556, \"#d8576b\"], [0.6666666666666666, \"#ed7953\"], [0.7777777777777778, \"#fb9f3a\"], [0.8888888888888888, \"#fdca26\"], [1.0, \"#f0f921\"]], \"type\": \"histogram2dcontour\"}], \"mesh3d\": [{\"colorbar\": {\"outlinewidth\": 0, \"ticks\": \"\"}, \"type\": \"mesh3d\"}], \"parcoords\": [{\"line\": {\"colorbar\": {\"outlinewidth\": 0, \"ticks\": \"\"}}, \"type\": \"parcoords\"}], \"pie\": [{\"automargin\": true, \"type\": \"pie\"}], \"scatter\": [{\"marker\": {\"colorbar\": {\"outlinewidth\": 0, \"ticks\": \"\"}}, \"type\": \"scatter\"}], \"scatter3d\": [{\"line\": {\"colorbar\": {\"outlinewidth\": 0, \"ticks\": \"\"}}, \"marker\": {\"colorbar\": {\"outlinewidth\": 0, \"ticks\": \"\"}}, \"type\": \"scatter3d\"}], \"scattercarpet\": [{\"marker\": {\"colorbar\": {\"outlinewidth\": 0, \"ticks\": \"\"}}, \"type\": \"scattercarpet\"}], \"scattergeo\": [{\"marker\": {\"colorbar\": {\"outlinewidth\": 0, \"ticks\": \"\"}}, \"type\": \"scattergeo\"}], \"scattergl\": [{\"marker\": {\"colorbar\": {\"outlinewidth\": 0, \"ticks\": \"\"}}, \"type\": \"scattergl\"}], \"scattermapbox\": [{\"marker\": {\"colorbar\": {\"outlinewidth\": 0, \"ticks\": \"\"}}, \"type\": \"scattermapbox\"}], \"scatterpolar\": [{\"marker\": {\"colorbar\": {\"outlinewidth\": 0, \"ticks\": \"\"}}, \"type\": \"scatterpolar\"}], \"scatterpolargl\": [{\"marker\": {\"colorbar\": {\"outlinewidth\": 0, \"ticks\": \"\"}}, \"type\": \"scatterpolargl\"}], \"scatterternary\": [{\"marker\": {\"colorbar\": {\"outlinewidth\": 0, \"ticks\": \"\"}}, \"type\": \"scatterternary\"}], \"surface\": [{\"colorbar\": {\"outlinewidth\": 0, \"ticks\": \"\"}, \"colorscale\": [[0.0, \"#0d0887\"], [0.1111111111111111, \"#46039f\"], [0.2222222222222222, \"#7201a8\"], [0.3333333333333333, \"#9c179e\"], [0.4444444444444444, \"#bd3786\"], [0.5555555555555556, \"#d8576b\"], [0.6666666666666666, \"#ed7953\"], [0.7777777777777778, \"#fb9f3a\"], [0.8888888888888888, \"#fdca26\"], [1.0, \"#f0f921\"]], \"type\": \"surface\"}], \"table\": [{\"cells\": {\"fill\": {\"color\": \"#EBF0F8\"}, \"line\": {\"color\": \"white\"}}, \"header\": {\"fill\": {\"color\": \"#C8D4E3\"}, \"line\": {\"color\": \"white\"}}, \"type\": \"table\"}]}, \"layout\": {\"annotationdefaults\": {\"arrowcolor\": \"#2a3f5f\", \"arrowhead\": 0, \"arrowwidth\": 1}, \"coloraxis\": {\"colorbar\": {\"outlinewidth\": 0, \"ticks\": \"\"}}, \"colorscale\": {\"diverging\": [[0, \"#8e0152\"], [0.1, \"#c51b7d\"], [0.2, \"#de77ae\"], [0.3, \"#f1b6da\"], [0.4, \"#fde0ef\"], [0.5, \"#f7f7f7\"], [0.6, \"#e6f5d0\"], [0.7, \"#b8e186\"], [0.8, \"#7fbc41\"], [0.9, \"#4d9221\"], [1, \"#276419\"]], \"sequential\": [[0.0, \"#0d0887\"], [0.1111111111111111, \"#46039f\"], [0.2222222222222222, \"#7201a8\"], [0.3333333333333333, \"#9c179e\"], [0.4444444444444444, \"#bd3786\"], [0.5555555555555556, \"#d8576b\"], [0.6666666666666666, \"#ed7953\"], [0.7777777777777778, \"#fb9f3a\"], [0.8888888888888888, \"#fdca26\"], [1.0, \"#f0f921\"]], \"sequentialminus\": [[0.0, \"#0d0887\"], [0.1111111111111111, \"#46039f\"], [0.2222222222222222, \"#7201a8\"], [0.3333333333333333, \"#9c179e\"], [0.4444444444444444, \"#bd3786\"], [0.5555555555555556, \"#d8576b\"], [0.6666666666666666, \"#ed7953\"], [0.7777777777777778, \"#fb9f3a\"], [0.8888888888888888, \"#fdca26\"], [1.0, \"#f0f921\"]]}, \"colorway\": [\"#636efa\", \"#EF553B\", \"#00cc96\", \"#ab63fa\", \"#FFA15A\", \"#19d3f3\", \"#FF6692\", \"#B6E880\", \"#FF97FF\", \"#FECB52\"], \"font\": {\"color\": \"#2a3f5f\"}, \"geo\": {\"bgcolor\": \"white\", \"lakecolor\": \"white\", \"landcolor\": \"#E5ECF6\", \"showlakes\": true, \"showland\": true, \"subunitcolor\": \"white\"}, \"hoverlabel\": {\"align\": \"left\"}, \"hovermode\": \"closest\", \"mapbox\": {\"style\": \"light\"}, \"paper_bgcolor\": \"white\", \"plot_bgcolor\": \"#E5ECF6\", \"polar\": {\"angularaxis\": {\"gridcolor\": \"white\", \"linecolor\": \"white\", \"ticks\": \"\"}, \"bgcolor\": \"#E5ECF6\", \"radialaxis\": {\"gridcolor\": \"white\", \"linecolor\": \"white\", \"ticks\": \"\"}}, \"scene\": {\"xaxis\": {\"backgroundcolor\": \"#E5ECF6\", \"gridcolor\": \"white\", \"gridwidth\": 2, \"linecolor\": \"white\", \"showbackground\": true, \"ticks\": \"\", \"zerolinecolor\": \"white\"}, \"yaxis\": {\"backgroundcolor\": \"#E5ECF6\", \"gridcolor\": \"white\", \"gridwidth\": 2, \"linecolor\": \"white\", \"showbackground\": true, \"ticks\": \"\", \"zerolinecolor\": \"white\"}, \"zaxis\": {\"backgroundcolor\": \"#E5ECF6\", \"gridcolor\": \"white\", \"gridwidth\": 2, \"linecolor\": \"white\", \"showbackground\": true, \"ticks\": \"\", \"zerolinecolor\": \"white\"}}, \"shapedefaults\": {\"line\": {\"color\": \"#2a3f5f\"}}, \"ternary\": {\"aaxis\": {\"gridcolor\": \"white\", \"linecolor\": \"white\", \"ticks\": \"\"}, \"baxis\": {\"gridcolor\": \"white\", \"linecolor\": \"white\", \"ticks\": \"\"}, \"bgcolor\": \"#E5ECF6\", \"caxis\": {\"gridcolor\": \"white\", \"linecolor\": \"white\", \"ticks\": \"\"}}, \"title\": {\"x\": 0.05}, \"xaxis\": {\"automargin\": true, \"gridcolor\": \"white\", \"linecolor\": \"white\", \"ticks\": \"\", \"title\": {\"standoff\": 15}, \"zerolinecolor\": \"white\", \"zerolinewidth\": 2}, \"yaxis\": {\"automargin\": true, \"gridcolor\": \"white\", \"linecolor\": \"white\", \"ticks\": \"\", \"title\": {\"standoff\": 15}, \"zerolinecolor\": \"white\", \"zerolinewidth\": 2}}}, \"title\": {\"text\": \"Airport Ratings\"}, \"width\": 1800},\n",
       "                        {\"responsive\": true}\n",
       "                    ).then(function(){\n",
       "                            \n",
       "var gd = document.getElementById('2b953a1f-ed13-4c78-9cb0-d71b14b38b4e');\n",
       "var x = new MutationObserver(function (mutations, observer) {{\n",
       "        var display = window.getComputedStyle(gd).display;\n",
       "        if (!display || display === 'none') {{\n",
       "            console.log([gd, 'removed!']);\n",
       "            Plotly.purge(gd);\n",
       "            observer.disconnect();\n",
       "        }}\n",
       "}});\n",
       "\n",
       "// Listen for the removal of the full notebook cells\n",
       "var notebookContainer = gd.closest('#notebook-container');\n",
       "if (notebookContainer) {{\n",
       "    x.observe(notebookContainer, {childList: true});\n",
       "}}\n",
       "\n",
       "// Listen for the clearing of the current output cell\n",
       "var outputEl = gd.closest('.output');\n",
       "if (outputEl) {{\n",
       "    x.observe(outputEl, {childList: true});\n",
       "}}\n",
       "\n",
       "                        })\n",
       "                };\n",
       "                });\n",
       "            </script>\n",
       "        </div>"
      ]
     },
     "metadata": {},
     "output_type": "display_data"
    }
   ],
   "source": [
    "fig = go.Figure()\n",
    "fig.add_trace(go.Scattergeo(\n",
    "    locationmode = 'USA-states',\n",
    "    lon = df['lng'],\n",
    "    lat = df['lat'],\n",
    "    text = df['text'],\n",
    "    marker = dict(\n",
    "        size = df['user_ratings_total'].clip(lower=1000.)/50,\n",
    "        \n",
    "        colorscale = 'rdylgn',\n",
    "        cmin = 3.0,\n",
    "        color = df['rating'],\n",
    "        cmax = 4.5,\n",
    "        \n",
    "        line_color='rgb(40,40,40)',\n",
    "        line_width=0.5,\n",
    "        sizemode = 'area'\n",
    "    ),\n",
    "    name = \"Airport ratings\"))\n",
    "\n",
    "fig.update_layout(\n",
    "    width=1800,\n",
    "    height=1200,\n",
    "    title_text = \"Airport Ratings\",\n",
    "    showlegend = True,\n",
    "    geo = dict(\n",
    "        scope = 'usa',\n",
    "        landcolor = 'rgb(217, 217, 217)',\n",
    "    )\n",
    ")\n",
    "\n",
    "fig.show()"
   ]
  }
 ],
 "metadata": {
  "kernelspec": {
   "display_name": "Python 3",
   "language": "python",
   "name": "python3"
  },
  "language_info": {
   "codemirror_mode": {
    "name": "ipython",
    "version": 3
   },
   "file_extension": ".py",
   "mimetype": "text/x-python",
   "name": "python",
   "nbconvert_exporter": "python",
   "pygments_lexer": "ipython3",
   "version": "3.6.9"
  }
 },
 "nbformat": 4,
 "nbformat_minor": 4
}
